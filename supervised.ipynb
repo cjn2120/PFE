{
 "cells": [
  {
   "cell_type": "code",
   "execution_count": 595,
   "metadata": {
    "collapsed": true
   },
   "outputs": [],
   "source": [
    "import numpy as np\n",
    "import sklearn\n",
    "import pandas as pd\n",
    "from pandas import Series\n",
    "import os\n",
    "import datetime\n",
    "from sklearn.decomposition import *\n",
    "import matplotlib.pyplot as plt\n",
    "\n",
    "from sklearn.metrics import mean_squared_error"
   ]
  },
  {
   "cell_type": "code",
   "execution_count": 596,
   "metadata": {
    "collapsed": true
   },
   "outputs": [],
   "source": [
    "os.chdir('/Users/admin/Downloads')"
   ]
  },
  {
   "cell_type": "code",
   "execution_count": 597,
   "metadata": {
    "collapsed": true
   },
   "outputs": [],
   "source": [
    "data=pd.read_csv('RawData.csv', sep=\",\")"
   ]
  },
  {
   "cell_type": "code",
   "execution_count": 598,
   "metadata": {
    "collapsed": false
   },
   "outputs": [
    {
     "data": {
      "text/plain": [
       "Index([u'Ntime', u'Time', u'Closing Price', u'Open Price', u'High price',\n",
       "       u'Low Price', u'Volume', u'MACD', u'CCI', u'ATR', u'BOLL_MID', u'EMA20',\n",
       "       u'MA10', u'MTM6', u'MA5', u'MTM12', u'ROC', u'SMI', u'WVAD',\n",
       "       u'US Dollar Index', u'HIBOR'],\n",
       "      dtype='object')"
      ]
     },
     "execution_count": 598,
     "metadata": {},
     "output_type": "execute_result"
    }
   ],
   "source": [
    "data.columns"
   ]
  },
  {
   "cell_type": "code",
   "execution_count": 592,
   "metadata": {
    "collapsed": true
   },
   "outputs": [],
   "source": [
    "df = pd.DataFrame(data['Volume'])\n",
    "df.index = data['Ntime']"
   ]
  },
  {
   "cell_type": "code",
   "execution_count": 602,
   "metadata": {
    "collapsed": true
   },
   "outputs": [],
   "source": [
    "data1 = data.copy()\n",
    "del data1['Ntime']\n",
    "data1.drop(['Time', 'Closing Price'], axis=1, inplace=True)"
   ]
  },
  {
   "cell_type": "code",
   "execution_count": 603,
   "metadata": {
    "collapsed": false
   },
   "outputs": [
    {
     "data": {
      "text/html": [
       "<div>\n",
       "<style>\n",
       "    .dataframe thead tr:only-child th {\n",
       "        text-align: right;\n",
       "    }\n",
       "\n",
       "    .dataframe thead th {\n",
       "        text-align: left;\n",
       "    }\n",
       "\n",
       "    .dataframe tbody tr th {\n",
       "        vertical-align: top;\n",
       "    }\n",
       "</style>\n",
       "<table border=\"1\" class=\"dataframe\">\n",
       "  <thead>\n",
       "    <tr style=\"text-align: right;\">\n",
       "      <th></th>\n",
       "      <th>Open Price</th>\n",
       "      <th>High price</th>\n",
       "      <th>Low Price</th>\n",
       "      <th>Volume</th>\n",
       "      <th>MACD</th>\n",
       "      <th>CCI</th>\n",
       "      <th>ATR</th>\n",
       "      <th>BOLL_MID</th>\n",
       "      <th>EMA20</th>\n",
       "      <th>MA10</th>\n",
       "      <th>MTM6</th>\n",
       "      <th>MA5</th>\n",
       "      <th>MTM12</th>\n",
       "      <th>ROC</th>\n",
       "      <th>SMI</th>\n",
       "      <th>WVAD</th>\n",
       "      <th>US Dollar Index</th>\n",
       "      <th>HIBOR</th>\n",
       "    </tr>\n",
       "  </thead>\n",
       "  <tbody>\n",
       "    <tr>\n",
       "      <th>0</th>\n",
       "      <td>21785.3906</td>\n",
       "      <td>21938.1992</td>\n",
       "      <td>21555.5293</td>\n",
       "      <td>254858.26</td>\n",
       "      <td>-646.053200</td>\n",
       "      <td>-193.115118</td>\n",
       "      <td>546.4805</td>\n",
       "      <td>23344.24592</td>\n",
       "      <td>22956.70941</td>\n",
       "      <td>22497.96286</td>\n",
       "      <td>-751.5703</td>\n",
       "      <td>22187.92768</td>\n",
       "      <td>-887.8516</td>\n",
       "      <td>-5.754486</td>\n",
       "      <td>-0.069509</td>\n",
       "      <td>-401619.3698</td>\n",
       "      <td>71.99</td>\n",
       "      <td>1.6</td>\n",
       "    </tr>\n",
       "    <tr>\n",
       "      <th>1</th>\n",
       "      <td>21389.4902</td>\n",
       "      <td>21742.0703</td>\n",
       "      <td>21163.5703</td>\n",
       "      <td>272528.48</td>\n",
       "      <td>-702.282620</td>\n",
       "      <td>-186.955957</td>\n",
       "      <td>578.5000</td>\n",
       "      <td>23233.30243</td>\n",
       "      <td>22793.47797</td>\n",
       "      <td>22289.66071</td>\n",
       "      <td>-1392.3806</td>\n",
       "      <td>21909.45156</td>\n",
       "      <td>-1786.9102</td>\n",
       "      <td>-7.872373</td>\n",
       "      <td>-0.068201</td>\n",
       "      <td>-507305.2571</td>\n",
       "      <td>72.73</td>\n",
       "      <td>1.6</td>\n",
       "    </tr>\n",
       "    <tr>\n",
       "      <th>2</th>\n",
       "      <td>21402.1699</td>\n",
       "      <td>21534.0508</td>\n",
       "      <td>21344.8496</td>\n",
       "      <td>179634.42</td>\n",
       "      <td>-723.891770</td>\n",
       "      <td>-133.742667</td>\n",
       "      <td>291.2715</td>\n",
       "      <td>23123.37093</td>\n",
       "      <td>22663.03438</td>\n",
       "      <td>22152.28180</td>\n",
       "      <td>-1031.8496</td>\n",
       "      <td>21703.08164</td>\n",
       "      <td>-1634.1699</td>\n",
       "      <td>-8.153977</td>\n",
       "      <td>-0.058111</td>\n",
       "      <td>-398848.6140</td>\n",
       "      <td>72.71</td>\n",
       "      <td>1.6</td>\n",
       "    </tr>\n",
       "    <tr>\n",
       "      <th>3</th>\n",
       "      <td>21402.6992</td>\n",
       "      <td>21916.2109</td>\n",
       "      <td>21402.6992</td>\n",
       "      <td>196457.92</td>\n",
       "      <td>-693.544830</td>\n",
       "      <td>-77.445777</td>\n",
       "      <td>513.5117</td>\n",
       "      <td>23033.50750</td>\n",
       "      <td>22591.60830</td>\n",
       "      <td>22069.02789</td>\n",
       "      <td>-129.2891</td>\n",
       "      <td>21677.22382</td>\n",
       "      <td>-1412.7403</td>\n",
       "      <td>-3.880007</td>\n",
       "      <td>-0.035303</td>\n",
       "      <td>-264228.1697</td>\n",
       "      <td>72.71</td>\n",
       "      <td>1.6</td>\n",
       "    </tr>\n",
       "    <tr>\n",
       "      <th>4</th>\n",
       "      <td>21632.6992</td>\n",
       "      <td>21684.2109</td>\n",
       "      <td>21098.8398</td>\n",
       "      <td>201519.68</td>\n",
       "      <td>-717.087314</td>\n",
       "      <td>-108.634123</td>\n",
       "      <td>814.2207</td>\n",
       "      <td>22911.84674</td>\n",
       "      <td>22461.05613</td>\n",
       "      <td>21919.61285</td>\n",
       "      <td>-881.1993</td>\n",
       "      <td>21500.98396</td>\n",
       "      <td>-1576.7989</td>\n",
       "      <td>-6.703666</td>\n",
       "      <td>-0.055006</td>\n",
       "      <td>-518512.8442</td>\n",
       "      <td>72.96</td>\n",
       "      <td>1.6</td>\n",
       "    </tr>\n",
       "  </tbody>\n",
       "</table>\n",
       "</div>"
      ],
      "text/plain": [
       "   Open Price  High price   Low Price     Volume        MACD         CCI  \\\n",
       "0  21785.3906  21938.1992  21555.5293  254858.26 -646.053200 -193.115118   \n",
       "1  21389.4902  21742.0703  21163.5703  272528.48 -702.282620 -186.955957   \n",
       "2  21402.1699  21534.0508  21344.8496  179634.42 -723.891770 -133.742667   \n",
       "3  21402.6992  21916.2109  21402.6992  196457.92 -693.544830  -77.445777   \n",
       "4  21632.6992  21684.2109  21098.8398  201519.68 -717.087314 -108.634123   \n",
       "\n",
       "        ATR     BOLL_MID        EMA20         MA10       MTM6          MA5  \\\n",
       "0  546.4805  23344.24592  22956.70941  22497.96286  -751.5703  22187.92768   \n",
       "1  578.5000  23233.30243  22793.47797  22289.66071 -1392.3806  21909.45156   \n",
       "2  291.2715  23123.37093  22663.03438  22152.28180 -1031.8496  21703.08164   \n",
       "3  513.5117  23033.50750  22591.60830  22069.02789  -129.2891  21677.22382   \n",
       "4  814.2207  22911.84674  22461.05613  21919.61285  -881.1993  21500.98396   \n",
       "\n",
       "       MTM12       ROC       SMI         WVAD  US Dollar Index  HIBOR  \n",
       "0  -887.8516 -5.754486 -0.069509 -401619.3698            71.99    1.6  \n",
       "1 -1786.9102 -7.872373 -0.068201 -507305.2571            72.73    1.6  \n",
       "2 -1634.1699 -8.153977 -0.058111 -398848.6140            72.71    1.6  \n",
       "3 -1412.7403 -3.880007 -0.035303 -264228.1697            72.71    1.6  \n",
       "4 -1576.7989 -6.703666 -0.055006 -518512.8442            72.96    1.6  "
      ]
     },
     "execution_count": 603,
     "metadata": {},
     "output_type": "execute_result"
    }
   ],
   "source": [
    "data1.head()"
   ]
  },
  {
   "cell_type": "code",
   "execution_count": 604,
   "metadata": {
    "collapsed": true
   },
   "outputs": [],
   "source": [
    "from keras.models import Sequential\n",
    "from keras.layers import Dense\n",
    "from keras.layers import LSTM\n",
    "from keras import backend as K\n",
    "from sklearn.preprocessing import MinMaxScaler\n",
    "from sklearn.metrics import f1_score\n",
    "from keras import losses\n",
    "from keras.utils.np_utils import to_categorical\n",
    "import keras"
   ]
  },
  {
   "cell_type": "code",
   "execution_count": 620,
   "metadata": {
    "collapsed": true
   },
   "outputs": [],
   "source": [
    "def price_returns(dataset):\n",
    "    returns = list()\n",
    "    returns.append(0)\n",
    "    for i in range(1, len(dataset)):\n",
    "        value = (1.0*dataset[i]/dataset[i - 1]) - 1\n",
    "        returns.append(value)\n",
    "    return Series(returns)"
   ]
  },
  {
   "cell_type": "code",
   "execution_count": 606,
   "metadata": {
    "collapsed": true
   },
   "outputs": [],
   "source": [
    "def timeseries_to_supervised(data, lag):\n",
    "    df = pd.DataFrame(data)\n",
    "    df_lag = pd.DataFrame(data.iloc[:,0])\n",
    "    for i in range(0,df.shape[1]):\n",
    "        columns = [df.iloc[:,i].shift(j) for j in range(1, lag+1)]\n",
    "        columns.append(df_lag)\n",
    "        df_lag = pd.concat(columns, axis=1)\n",
    "        df_lag.fillna(0, inplace=True)\n",
    "    return df_lag[lag:]"
   ]
  },
  {
   "cell_type": "code",
   "execution_count": 621,
   "metadata": {
    "collapsed": true
   },
   "outputs": [],
   "source": [
    "# scale train and test data to [-1, 1]\n",
    "def scale(train, test):\n",
    "    # fit scaler\n",
    "    scaler = MinMaxScaler(feature_range=(-1, 1))\n",
    "    scaler = scaler.fit(train)\n",
    "    # transform train\n",
    "    train = train.reshape(train.shape[0], train.shape[1])\n",
    "    train_scaled = scaler.transform(train)\n",
    "    # transform test\n",
    "    test = test.reshape(test.shape[0], test.shape[1])\n",
    "    test_scaled = scaler.transform(test)\n",
    "    return scaler, train_scaled, test_scaled"
   ]
  },
  {
   "cell_type": "code",
   "execution_count": 622,
   "metadata": {
    "collapsed": true
   },
   "outputs": [],
   "source": [
    "# inverse scaling for a forecasted value\n",
    "def invert_scale(scaler, X, value):\n",
    "    new_row = [x for x in X] + [value]\n",
    "    array = np.array(new_row)\n",
    "    array = array.reshape(1, len(array))\n",
    "    inverted = scaler.inverse_transform(array)\n",
    "    return inverted[0, -1]"
   ]
  },
  {
   "cell_type": "code",
   "execution_count": 666,
   "metadata": {
    "collapsed": true
   },
   "outputs": [],
   "source": [
    "data2 = data1.copy()\n",
    "data2.drop(['High price', 'Low Price', 'Volume'], axis=1, inplace=True)\n",
    "data2.head()\n",
    "Ret = price_returns(data2['Open Price'])\n",
    "data2['Returns'] = Ret\n",
    "data2.head()\n",
    "data3 = data2.copy()\n",
    "data3.drop(['Open Price'], axis = 1, inplace = True)\n",
    "data3.head()\n",
    "cols = data3.columns.tolist()\n",
    "cols = cols[-1:] + cols[:-1]\n",
    "data3 = data3[cols]\n",
    "data3.head()\n",
    "data4 = data1.copy()\n",
    "Ret = price_returns(data1['Open Price'])\n",
    "data4['Returns'] = Ret\n",
    "data4.drop(['Open Price'], axis = 1, inplace = True)\n",
    "cols = data4.columns.tolist()\n",
    "cols = cols[-1:] + cols[:-1]\n",
    "data4 = data4[cols]"
   ]
  },
  {
   "cell_type": "code",
   "execution_count": 676,
   "metadata": {
    "collapsed": true
   },
   "outputs": [],
   "source": [
    "def run_index_scaled(timestep, repeats, n_batch, n_epochs, n_neurons, train_up, train_low, test_up, test_low):\n",
    "    '''timestep, repeats, n_batch, n_epochs, n_neurons, train_up, train_low, test_up, test_low'''\n",
    "    supervised = timeseries_to_supervised(data3, timestep)\n",
    "    # split data into train and test-sets\n",
    "    train, test = supervised.values[train_low:train_up], supervised.values[test_low:test_up]\n",
    "    # transform the scale of the data\n",
    "    scaler, train_scaled, test_scaled = scale(train, test)\n",
    "    # fit and evaluate model\n",
    "    for i in range(repeats):\n",
    "        scores, predictions, expected = fit_lstm_index_scaled(train_scaled, test_scaled, scaler, n_batch, n_epochs, n_neurons, timestep)\n",
    "        plt.plot(scores['train'], color='blue', label = 'Train RMSE')\n",
    "        plt.plot(scores['test'], color='orange', label = 'Test RMSE')\n",
    "        print('%d) TrainScore=%f, TestScore=%f' % (i, scores['train'].iloc[-1], scores['test'].iloc[-1]))\n",
    "    plt.savefig('epochs_diagnostic.png')\n",
    "    plt.legend(bbox_to_anchor=(1.05, 1), loc=2, borderaxespad=0.)\n",
    "    plt.show() \n",
    "    return scores, predictions, expected"
   ]
  },
  {
   "cell_type": "code",
   "execution_count": 694,
   "metadata": {
    "collapsed": true
   },
   "outputs": [],
   "source": [
    "from keras import optimizers\n",
    "from keras.callbacks import TensorBoard\n",
    "\n",
    "def fit_lstm_index_scaled(scaled_train, scaled_test, scaler, batch_size, nb_epoch, neurons, timestep):\n",
    "    X, y = scaled_train[:, 0:scaled_train.shape[1]-1], scaled_train[:, -1]\n",
    "#   X = X.reshape(X.shape[0], scaled_train.shape[1]-1, 1)\n",
    "    X = X.reshape(X.shape[0], timestep, (scaled_train.shape[1]-1)/timestep)\n",
    "    # prepare model\n",
    "    dropout = 0.3\n",
    "    model = Sequential()\n",
    "    model.add(LSTM(neurons, batch_input_shape=(batch_size, X.shape[1], X.shape[2]), stateful=True, dropout=dropout))\n",
    "    model.add(Dense(1))\n",
    "    adam = optimizers.Adam(lr=0.005, beta_1=0.9, beta_2=0.999, epsilon=1e-08, decay=0.0005)\n",
    "    model.compile(loss = 'mean_squared_error', optimizer = adam)\n",
    "#   model.compile(loss = 'mean_absolute_percentage_error', optimizer = adam)\n",
    "    print(model.summary())\n",
    "    initial_weights = model.get_weights()\n",
    "    print('Initial weights:\\n', initial_weights)\n",
    "    # fit model\n",
    "    train_rmse, test_rmse = list(), list()\n",
    "    #tb_callback = keras.callbacks.TensorBoard(log_dir='/Users/admin/Documents/RL_portf_optimisation', histogram_freq=2, write_graph=True)\n",
    "    #tb_callback.set_model(model)\n",
    "    #callbacks = []\n",
    "    #callbacks.append(tb_callback)\n",
    "    for i in range(nb_epoch-1):\n",
    "        model.fit(X, y, epochs=1, batch_size=batch_size, verbose=2, shuffle=False)\n",
    "        model.reset_states()\n",
    "        # evaluate model on train data\n",
    "        modtrain, _,_=evaluate_index_scaled(model, scaled_train, scaler, batch_size, timestep)\n",
    "        train_rmse.append(modtrain)\n",
    "        model.reset_states()\n",
    "        # evaluate model on test data\n",
    "        modtest, _,_=evaluate_index_scaled(model, scaled_test, scaler, batch_size, timestep)\n",
    "        test_rmse.append(modtest)\n",
    "        model.reset_states()\n",
    "        \n",
    "    model.fit(X, y, epochs=1, batch_size=batch_size, verbose=2, shuffle=False)\n",
    "    model.reset_states()\n",
    "    # evaluate model on train data\n",
    "    modtrain, _,_=evaluate_index_scaled(model, scaled_train, scaler, batch_size, timestep)\n",
    "    train_rmse.append(modtrain)\n",
    "    model.reset_states()\n",
    "    # evaluate model on test data\n",
    "    modtest, predictions,expected=evaluate_index_scaled(model, scaled_test, scaler, batch_size, timestep)\n",
    "    test_rmse.append(modtest)\n",
    "    model.reset_states()\n",
    "    scores = pd.DataFrame()\n",
    "    scores['train'], scores['test'] = train_rmse, test_rmse\n",
    "    return scores, predictions, expected"
   ]
  },
  {
   "cell_type": "code",
   "execution_count": 689,
   "metadata": {
    "collapsed": true
   },
   "outputs": [],
   "source": [
    "# evaluate the model on a dataset, returns RMSE in transformed units\n",
    "def evaluate_index_scaled(model, scaled_data, scaler, batch_size, timestep):\n",
    "    # separate\n",
    "    X, y = scaled_data[:,0:scaled_data.shape[1]-1], scaled_data[:,-1]\n",
    "    # reshape X.shape[0], timestep, scaled_train.shape[1]-1\n",
    "    reshaped = X.reshape(X.shape[0], timestep, (scaled_data.shape[1]-1)/timestep)\n",
    "    # forecast dataset\n",
    "    output = model.predict(reshaped, batch_size=batch_size)\n",
    "    # invert data transforms on forecast\n",
    "    predictions = list()\n",
    "    expected = list()\n",
    "    for i in range(len(output)):\n",
    "        yhat = output[i,0]\n",
    "        ytrue = y[i]\n",
    "#        ytrue = y[i,0]\n",
    "# invert scaling\n",
    "        yhat = invert_scale(scaler, X[i], yhat)\n",
    "        ytrue = invert_scale(scaler, X[i], ytrue)\n",
    "        predictions.append(yhat)\n",
    "#       expected.append(ytrue.astype(int))\n",
    "        expected.append(ytrue)\n",
    "        # report performance\n",
    "    plt.plot(expected, color = 'blue', label = 'True values')\n",
    "    plt.plot(predictions, color = 'orange', label = 'Predicted values')\n",
    "    plt.legend(bbox_to_anchor=(1.05, 1), loc=2, borderaxespad=0.)\n",
    "    plt.show()\n",
    "    f_score = mean_squared_error(expected, predictions)\n",
    "    return f_score, predictions, expected"
   ]
  },
  {
   "cell_type": "code",
   "execution_count": 670,
   "metadata": {
    "collapsed": true
   },
   "outputs": [],
   "source": [
    "def mean_absolute_percentage_error(y_true, y_pred): \n",
    "    y_true, y_pred = np.array(y_true), np.array(y_pred)\n",
    "    return np.mean(np.abs((y_true - y_pred) / y_true)) * 100"
   ]
  },
  {
   "cell_type": "code",
   "execution_count": 671,
   "metadata": {
    "collapsed": true
   },
   "outputs": [],
   "source": [
    "def signal(y_pred):\n",
    "    signal = list()\n",
    "    for i in range(0,len(y_pred)):\n",
    "        if(y_pred[i]>0):\n",
    "            signal.append(1)\n",
    "        else:\n",
    "            signal.append(-1)\n",
    "    return Series(signal)"
   ]
  },
  {
   "cell_type": "code",
   "execution_count": 672,
   "metadata": {
    "collapsed": true
   },
   "outputs": [],
   "source": [
    "def transaction_cost(sig):\n",
    "    count = 0\n",
    "    for i in range(1, len(sig)):\n",
    "        if(sig[i]!=sig[i-1]):\n",
    "            count +=1\n",
    "    return count*0.0002"
   ]
  },
  {
   "cell_type": "code",
   "execution_count": 673,
   "metadata": {
    "collapsed": false
   },
   "outputs": [
    {
     "data": {
      "text/plain": [
       "'timestep, repeats, n_batch, n_epochs, n_neurons, train_up, train_low, test_up, test_low'"
      ]
     },
     "execution_count": 673,
     "metadata": {},
     "output_type": "execute_result"
    }
   ],
   "source": [
    "run_index_scaled.__doc__"
   ]
  },
  {
   "cell_type": "code",
   "execution_count": null,
   "metadata": {
    "collapsed": true
   },
   "outputs": [],
   "source": [
    "s = signal(pred)\n",
    "plt.plot((np.ones(len(s))*exp).cumsum(), label = 'Long Strategy')\n",
    "plt.plot((-np.ones(len(s))*exp).cumsum(), label = 'Short Strategy')\n",
    "plt.plot((s*exp).cumsum(), label = 'Our Strategy')\n",
    "plt.legend(bbox_to_anchor=(1.05, 1), loc=2, borderaxespad=0.)\n",
    "plt.show()\n",
    "a=s*exp\n",
    "((np.mean(a)-(transaction_cost(s)/len(s)))/(np.sqrt(len(s))*np.std(a)))*np.sqrt(250)"
   ]
  },
  {
   "cell_type": "code",
   "execution_count": null,
   "metadata": {
    "collapsed": true
   },
   "outputs": [],
   "source": [
    "scores_n, pred, exp = run_index_scaled(2, 1, 10, 50, 4, 1500, 0, 2000, 1500)"
   ]
  },
  {
   "cell_type": "code",
   "execution_count": null,
   "metadata": {
    "collapsed": true
   },
   "outputs": [],
   "source": [
    "scores_n, pred, exp = run_index_scaled(2, 2, 10, 50, 4, 1500, 0, 2000, 1500)"
   ]
  },
  {
   "cell_type": "code",
   "execution_count": null,
   "metadata": {
    "collapsed": true
   },
   "outputs": [],
   "source": [
    "scores_n, pred, exp = run_index_scaled(2, 1, 10, 200, 4, 1500, 0, 2000, 1500)"
   ]
  },
  {
   "cell_type": "code",
   "execution_count": null,
   "metadata": {
    "collapsed": false
   },
   "outputs": [],
   "source": [
    "scores_n, pred, exp = run_index_scaled(2, 1, 10, 200, 4, 1500, 0, 2000, 1500)"
   ]
  },
  {
   "cell_type": "code",
   "execution_count": null,
   "metadata": {
    "collapsed": false
   },
   "outputs": [],
   "source": [
    "scores_n, pred, exp = run_index_scaled(3, 1, 10, 200, 4, 1500, 0, 2000, 1500)"
   ]
  },
  {
   "cell_type": "code",
   "execution_count": null,
   "metadata": {
    "collapsed": false
   },
   "outputs": [],
   "source": [
    "data3.shape"
   ]
  },
  {
   "cell_type": "code",
   "execution_count": null,
   "metadata": {
    "collapsed": false
   },
   "outputs": [],
   "source": [
    "plt.plot(data3['Returns'])\n",
    "plt.show()"
   ]
  },
  {
   "cell_type": "code",
   "execution_count": null,
   "metadata": {
    "collapsed": true
   },
   "outputs": [],
   "source": [
    "scores_n, pred, exp = run_index_scaled(3, 1, 10, 200, 4, 1500, 250, 2000, 1500)"
   ]
  },
  {
   "cell_type": "code",
   "execution_count": null,
   "metadata": {
    "collapsed": true
   },
   "outputs": [],
   "source": [
    "scores_n, pred, exp = run_index_scaled(3, 1, 10, 200, 4, 1500, 250, 1700, 1500)"
   ]
  }
 ],
 "metadata": {
  "kernelspec": {
   "display_name": "Python [Root]",
   "language": "python",
   "name": "Python [Root]"
  },
  "language_info": {
   "codemirror_mode": {
    "name": "ipython",
    "version": 3
   },
   "file_extension": ".py",
   "mimetype": "text/x-python",
   "name": "python",
   "nbconvert_exporter": "python",
   "pygments_lexer": "ipython3",
   "version": "3.5.2"
  }
 },
 "nbformat": 4,
 "nbformat_minor": 2
}
